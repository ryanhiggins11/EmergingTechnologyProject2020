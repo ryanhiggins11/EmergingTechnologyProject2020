{
 "cells": [
  {
   "cell_type": "code",
   "execution_count": null,
   "metadata": {},
   "outputs": [],
   "source": [
    "import pandas as pd\n",
    "import numpy as np\n",
    "import tensorflow as tf\n",
    "import tensorflow.keras as kr\n",
    "from tensorflow.keras import layers\n",
    "from tensorflow.keras.layers.experimental import preprocessing\n",
    "\n",
    "turbine_train = pd.read_csv(\n",
    "    \"powerproduction.csv\",\n",
    "    names=[\"speed\", \"power\"])\n",
    "\n",
    "turbine_features = turbine_train.copy()\n",
    "turbine_labels = turbine_features.pop('power')\n",
    "\n",
    "# Create a neural network with one neuron.\n",
    "model = kr.models.Sequential()\n",
    "model.add(kr.layers.Dense(30, input_shape=(1,), activation=\"sigmoid\", kernel_initializer='ones', bias_initializer='zeros'))\n",
    "model.add(kr.layers.Dense(150, input_shape=(1,), activation=\"sigmoid\", kernel_initializer='ones', bias_initializer='zeros'))\n",
    "model.add(kr.layers.Dense(1, activation=\"linear\", kernel_initializer='ones', bias_initializer='zeros'))\n",
    "model.compile('adam', loss='mean_squared_error')\n",
    "\n",
    "# Train the neural network on our training data.\n",
    "model.fit(turbine_features, turbine_labels, epochs=500)\n",
    "\n",
    "#Saves model\n",
    "model.save(\"Output_Model\")"
   ]
  },
  {
   "cell_type": "code",
   "execution_count": null,
   "metadata": {},
   "outputs": [],
   "source": []
  }
 ],
 "metadata": {
  "kernelspec": {
   "display_name": "Python 3",
   "language": "python",
   "name": "python3"
  },
  "language_info": {
   "codemirror_mode": {
    "name": "ipython",
    "version": 3
   },
   "file_extension": ".py",
   "mimetype": "text/x-python",
   "name": "python",
   "nbconvert_exporter": "python",
   "pygments_lexer": "ipython3",
   "version": "3.8.5"
  }
 },
 "nbformat": 4,
 "nbformat_minor": 4
}
